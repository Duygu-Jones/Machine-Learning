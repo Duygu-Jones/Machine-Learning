{
 "cells": [
  {
   "cell_type": "markdown",
   "metadata": {},
   "source": [
    "<div style=\"color:white;\n",
    "            display:fill;\n",
    "            border-radius:10px;\n",
    "            background-color:#0e2f52;\n",
    "            font-size:80%;\n",
    "            font-family:Verdana;\n",
    "            letter-spacing:1px\">\n",
    "    <h1 style='padding: 20px;\n",
    "              color:white;\n",
    "              text-align:center;'>\n",
    "        AUTOSCOUT24 CAR PRICE PREDICTION (EDA and ML)\n",
    "    </h1>\n",
    "    </div>\n",
    "\n",
    "<h2 align=\"center\"><font color=#20a0ff> Linear Regression and Regularization(Linear-Ridge-Lasso-ElasticNet) </font></h2> \n",
    "\n",
    "---\n",
    "    \n",
    "<p align=\"right\">\n",
    "  Duygu Jones | Data Scientist  | July 2024 \n",
    "    <br>\n",
    "  Follow me:\n",
    "  <a href=\"https://duygujones.vercel.app/\">duygujones.com</a> | \n",
    "  <a href=\"https://www.linkedin.com/in/duygujones/\">Linkedin</a> | \n",
    "  <a href=\"https://github.com/Duygu-Jones\">GitHub</a> | \n",
    "  <a href=\"https://www.kaggle.com/duygujones\">Kaggle</a> | \n",
    "  <a href=\"https://medium.com/@duygujones\">Medium</a> | \n",
    "  <a href=\"https://public.tableau.com/app/profile/duygu.jones/vizzes\">Tableau</a>\n",
    "</p>\n"
   ]
  },
  {
   "cell_type": "markdown",
   "metadata": {},
   "source": [
    "## **Table of Content**\n",
    "\n",
    "1. [Intoduction](#1.)\n",
    "1. [Importing Libraries](#2.)\n",
    "1. [Reading the Dataset](#3.)\n",
    "1. [EXPLORATORY DATA ANALYSIS (EDA)](#4.)\n",
    "    - [Categorical Features](#cat)\n",
    "    - [Numerical Features](#num)\n",
    "    - [Correlations](#corr)\n",
    "    - [Outlier Analysis](#out)\n",
    "1. [MACHINE LEARNING](#4.1)\n",
    "1. [Train | Test Split)](#5.)\n",
    "1. [Implement Linear Regression](#6.)\n",
    "1. [Implement Ridge Regression](#7.)\n",
    "1. [Implement Lasso Regression](#8.)\n",
    "1. [Implement Elastic-Net Regression](#9.)\n",
    "1. [Feature Importance)](#10.)\n",
    "1. [Compare Models Performance](#11.)\n",
    "1. [Final Model and Predictions](#12.)"
   ]
  },
  {
   "cell_type": "markdown",
   "metadata": {},
   "source": [
    "## Introduction\n",
    "\n",
    "- This project aims to predict car prices using the Auto Scout dataset from AutoScout24, containing features of 9 different car models. \n",
    "- By performing Exploratory Data Analysis (EDA) and implementing machine learning models, the goal is to gain insights into the data and build effective regression models for car price prediction.\n",
    "- Additionally, these models can support automotive industry stakeholders in understanding market trends, optimizing pricing strategies, and making data-driven decisions. Consumers can also benefit by making informed choices when selecting vehicles.\n",
    "- Ultimately, the goal is to leverage data-driven insights to enhance the understanding of the automotive market, improve pricing accuracy, and support sustainable development in the automotive industry. \n",
    "\n",
    "## Objectives\n",
    "\n",
    "1. **Understand the dataset and its features.**\n",
    "2. **Clean and prepare the data for modeling.**\n",
    "3. **Implement various regression algorithms to predict car prices.**\n",
    "4. **Optimize model performance by tuning hyperparameters and focusing on important features.**\n",
    "5. **Compare the performance of different regression algorithms.**\n",
    "\n",
    "\n",
    "\n",
    "*The dataset and results are used for educational purposes, demonstrating the application of advanced machine learning techniques on real-world data. We aim to build effective regression models to predict car prices and gain a deeper understanding of machine learning techniques.*\n",
    "\n",
    "## About the Dataset\n",
    "The **Auto Scout** data is sourced from the online car trading company [AutoScout24](https://www.autoscout24.com) in 2019 and contains various features of 9 different car models. This project uses a pre-processed and organized dataset to explore and understand machine learning algorithms, particularly for car price prediction using regression techniques.\n",
    "\n",
    "**Dataset:** AutoScout24 Car Sales Dataset  \n",
    "- **Content:** Data on various features of 9 different car models.  \n",
    "- **Number of Rows:** 15,915  \n",
    "- **Number of Columns:** 23  \n",
    "\n",
    "**Inputs:**\n",
    "- **make_model:** The make and model of the car\n",
    "- **body_type:** The type of the car (e.g., Sedan)\n",
    "- **price:** The price of the car (in EUR)\n",
    "- **vat:** VAT status\n",
    "- **km:** The car's mileage\n",
    "- **Type:** The condition of the car (e.g., used)\n",
    "- **Fuel:** The type of fuel (e.g., Diesel, Petrol)\n",
    "- **Gears:** Number of gears\n",
    "- **Comfort_Convenience:** Comfort and convenience features\n",
    "- **Entertainment_Media:** Entertainment and media features\n",
    "- **Extras:** Extra features\n",
    "- **Safety_Security:** Safety and security features\n",
    "- **age:** The age of the car\n",
    "- **Previous_Owners:** Number of previous owners\n",
    "- **hp_kW:** Engine power (in kW)\n",
    "- **Inspection_new:** New inspection status\n",
    "- **Paint_Type:** Type of paint\n",
    "- **Upholstery_type:** Type of upholstery\n",
    "- **Gearing_Type:** Type of gearing (e.g., automatic)\n",
    "- **Displacement_cc:** Engine displacement (in cc)\n",
    "- **Weight_kg:** The weight of the car (in kg)\n",
    "- **Drive_chain:** Type of drive (e.g., front-wheel drive)\n",
    "- **cons_comb:** Combined fuel consumption (L/100 km)"
   ]
  },
  {
   "cell_type": "markdown",
   "metadata": {},
   "source": [
    "<a id=\"2.\"></a>\n",
    "# - Import the Libraries"
   ]
  },
  {
   "cell_type": "code",
   "execution_count": 1,
   "metadata": {
    "execution": {
     "iopub.execute_input": "2024-07-25T06:55:22.216849Z",
     "iopub.status.busy": "2024-07-25T06:55:22.216436Z",
     "iopub.status.idle": "2024-07-25T06:55:26.577300Z",
     "shell.execute_reply": "2024-07-25T06:55:26.575812Z",
     "shell.execute_reply.started": "2024-07-25T06:55:22.216816Z"
    }
   },
   "outputs": [],
   "source": [
    "import numpy as np \n",
    "import pandas as pd \n",
    "\n",
    "import matplotlib.pyplot as plt\n",
    "import seaborn as sns\n",
    "\n",
    "import plotly.express as px\n",
    "import scipy.stats as stats\n",
    "\n",
    "plt.rcParams[\"figure.figsize\"] = (10, 6)\n",
    "\n",
    "%matplotlib inline  \n",
    "\n",
    "from scipy import stats\n",
    "from sklearn.preprocessing import PolynomialFeatures\n",
    "from sklearn.model_selection import train_test_split\n",
    "from sklearn.model_selection import GridSearchCV\n",
    "from sklearn.preprocessing import StandardScaler, MinMaxScaler, RobustScaler\n",
    "\n",
    "from sklearn.linear_model import LinearRegression\n",
    "from sklearn.linear_model import Ridge, RidgeCV\n",
    "from sklearn.linear_model import Lasso, LassoCV\n",
    "from sklearn.linear_model import ElasticNet, ElasticNetCV\n",
    "\n",
    "from sklearn.model_selection import cross_val_score, cross_validate\n",
    "\n",
    "from sklearn.metrics import r2_score, mean_absolute_error, mean_squared_error\n",
    "\n",
    "from yellowbrick.regressor import ResidualsPlot, PredictionError\n",
    "\n",
    "import warnings\n",
    "warnings.filterwarnings(\"ignore\")"
   ]
  },
  {
   "cell_type": "markdown",
   "metadata": {},
   "source": [
    "<a id=\"3\"></a>\n",
    "# - Read the Dataset"
   ]
  },
  {
   "cell_type": "code",
   "execution_count": 2,
   "metadata": {
    "execution": {
     "iopub.execute_input": "2024-07-25T06:55:26.580788Z",
     "iopub.status.busy": "2024-07-25T06:55:26.579975Z",
     "iopub.status.idle": "2024-07-25T06:55:26.939854Z",
     "shell.execute_reply": "2024-07-25T06:55:26.938249Z",
     "shell.execute_reply.started": "2024-07-25T06:55:26.580719Z"
    }
   },
   "outputs": [],
   "source": [
    "df0 = pd.read_csv('/kaggle/input/autoscout24-car-sales2019/autoscout_car_sales.csv')\n",
    "df = df0.copy()"
   ]
  },
  {
   "cell_type": "markdown",
   "metadata": {},
   "source": [
    "<a id=\"4.\"></a>\n",
    "# 1. EXPLORATORY DATA ANALYSIS (EDA)"
   ]
  },
  {
   "cell_type": "code",
   "execution_count": null,
   "metadata": {
    "execution": {
     "iopub.execute_input": "2024-07-23T16:56:41.830145Z",
     "iopub.status.busy": "2024-07-23T16:56:41.829822Z",
     "iopub.status.idle": "2024-07-23T16:56:41.862636Z",
     "shell.execute_reply": "2024-07-23T16:56:41.861330Z",
     "shell.execute_reply.started": "2024-07-23T16:56:41.830117Z"
    }
   },
   "outputs": [],
   "source": [
    "df.head()"
   ]
  },
  {
   "cell_type": "code",
   "execution_count": null,
   "metadata": {
    "execution": {
     "iopub.execute_input": "2024-07-23T16:56:41.864827Z",
     "iopub.status.busy": "2024-07-23T16:56:41.864344Z",
     "iopub.status.idle": "2024-07-23T16:56:41.908549Z",
     "shell.execute_reply": "2024-07-23T16:56:41.907115Z",
     "shell.execute_reply.started": "2024-07-23T16:56:41.864786Z"
    }
   },
   "outputs": [],
   "source": [
    "df.info()"
   ]
  },
  {
   "cell_type": "markdown",
   "metadata": {},
   "source": [
    "# - Rename the Columns"
   ]
  },
  {
   "cell_type": "code",
   "execution_count": null,
   "metadata": {
    "execution": {
     "iopub.execute_input": "2024-07-23T16:56:41.913021Z",
     "iopub.status.busy": "2024-07-23T16:56:41.912616Z",
     "iopub.status.idle": "2024-07-23T16:56:41.921072Z",
     "shell.execute_reply": "2024-07-23T16:56:41.919696Z",
     "shell.execute_reply.started": "2024-07-23T16:56:41.912989Z"
    }
   },
   "outputs": [],
   "source": [
    "df.columns"
   ]
  },
  {
   "cell_type": "code",
   "execution_count": 3,
   "metadata": {
    "execution": {
     "iopub.execute_input": "2024-07-25T06:55:33.473348Z",
     "iopub.status.busy": "2024-07-25T06:55:33.472196Z",
     "iopub.status.idle": "2024-07-25T06:55:33.487697Z",
     "shell.execute_reply": "2024-07-25T06:55:33.486336Z",
     "shell.execute_reply.started": "2024-07-25T06:55:33.473295Z"
    }
   },
   "outputs": [],
   "source": [
    "df.rename(columns={\n",
    "    'make_model': 'make_model',\n",
    "    'body_type': 'body_type',\n",
    "    'price': 'price',\n",
    "    'vat': 'vat',\n",
    "    'km': 'km',\n",
    "    'Type': 'type',\n",
    "    'Fuel': 'fuel_type',\n",
    "    'Gears': 'gears_num',\n",
    "    'Comfort_Convenience': 'comfort_convenience',\n",
    "    'Entertainment_Media': 'entertainment_media',\n",
    "    'Extras': 'extras',\n",
    "    'Safety_Security': 'safety_security',\n",
    "    'age': 'age',\n",
    "    'Previous_Owners': 'previous_owners',\n",
    "    'hp_kW': 'hp_kw',\n",
    "    'Inspection_new': 'inspection_new',\n",
    "    'Paint_Type': 'paint_type',\n",
    "    'Upholstery_type': 'upholstery_type',\n",
    "    'Gearing_Type': 'gearing_type',\n",
    "    'Displacement_cc': 'displacement_cc',\n",
    "    'Weight_kg': 'weight_kg',\n",
    "    'Drive_chain': 'drive_chain',\n",
    "    'cons_comb': 'fuel_cons_comb'\n",
    "}, inplace=True)\n"
   ]
  },
  {
   "cell_type": "code",
   "execution_count": null,
   "metadata": {
    "execution": {
     "iopub.execute_input": "2024-07-24T17:14:09.905292Z",
     "iopub.status.busy": "2024-07-24T17:14:09.904249Z",
     "iopub.status.idle": "2024-07-24T17:14:09.912910Z",
     "shell.execute_reply": "2024-07-24T17:14:09.911511Z",
     "shell.execute_reply.started": "2024-07-24T17:14:09.905255Z"
    }
   },
   "outputs": [],
   "source": [
    "df.columns "
   ]
  },
  {
   "cell_type": "markdown",
   "metadata": {},
   "source": [
    "# - Check Missing Values"
   ]
  },
  {
   "cell_type": "code",
   "execution_count": 4,
   "metadata": {
    "execution": {
     "iopub.execute_input": "2024-07-25T06:55:47.534565Z",
     "iopub.status.busy": "2024-07-25T06:55:47.534129Z",
     "iopub.status.idle": "2024-07-25T06:55:47.617166Z",
     "shell.execute_reply": "2024-07-25T06:55:47.615865Z",
     "shell.execute_reply.started": "2024-07-25T06:55:47.534529Z"
    }
   },
   "outputs": [
    {
     "data": {
      "text/html": [
       "<div>\n",
       "<style scoped>\n",
       "    .dataframe tbody tr th:only-of-type {\n",
       "        vertical-align: middle;\n",
       "    }\n",
       "\n",
       "    .dataframe tbody tr th {\n",
       "        vertical-align: top;\n",
       "    }\n",
       "\n",
       "    .dataframe thead th {\n",
       "        text-align: right;\n",
       "    }\n",
       "</style>\n",
       "<table border=\"1\" class=\"dataframe\">\n",
       "  <thead>\n",
       "    <tr style=\"text-align: right;\">\n",
       "      <th></th>\n",
       "      <th>count</th>\n",
       "      <th>percentage</th>\n",
       "    </tr>\n",
       "  </thead>\n",
       "  <tbody>\n",
       "    <tr>\n",
       "      <th>make_model</th>\n",
       "      <td>0</td>\n",
       "      <td>0.0</td>\n",
       "    </tr>\n",
       "    <tr>\n",
       "      <th>body_type</th>\n",
       "      <td>0</td>\n",
       "      <td>0.0</td>\n",
       "    </tr>\n",
       "    <tr>\n",
       "      <th>price</th>\n",
       "      <td>0</td>\n",
       "      <td>0.0</td>\n",
       "    </tr>\n",
       "    <tr>\n",
       "      <th>vat</th>\n",
       "      <td>0</td>\n",
       "      <td>0.0</td>\n",
       "    </tr>\n",
       "    <tr>\n",
       "      <th>km</th>\n",
       "      <td>0</td>\n",
       "      <td>0.0</td>\n",
       "    </tr>\n",
       "    <tr>\n",
       "      <th>type</th>\n",
       "      <td>0</td>\n",
       "      <td>0.0</td>\n",
       "    </tr>\n",
       "    <tr>\n",
       "      <th>fuel_type</th>\n",
       "      <td>0</td>\n",
       "      <td>0.0</td>\n",
       "    </tr>\n",
       "    <tr>\n",
       "      <th>gears_num</th>\n",
       "      <td>0</td>\n",
       "      <td>0.0</td>\n",
       "    </tr>\n",
       "    <tr>\n",
       "      <th>comfort_convenience</th>\n",
       "      <td>0</td>\n",
       "      <td>0.0</td>\n",
       "    </tr>\n",
       "    <tr>\n",
       "      <th>entertainment_media</th>\n",
       "      <td>0</td>\n",
       "      <td>0.0</td>\n",
       "    </tr>\n",
       "    <tr>\n",
       "      <th>extras</th>\n",
       "      <td>0</td>\n",
       "      <td>0.0</td>\n",
       "    </tr>\n",
       "    <tr>\n",
       "      <th>safety_security</th>\n",
       "      <td>0</td>\n",
       "      <td>0.0</td>\n",
       "    </tr>\n",
       "    <tr>\n",
       "      <th>age</th>\n",
       "      <td>0</td>\n",
       "      <td>0.0</td>\n",
       "    </tr>\n",
       "    <tr>\n",
       "      <th>previous_owners</th>\n",
       "      <td>0</td>\n",
       "      <td>0.0</td>\n",
       "    </tr>\n",
       "    <tr>\n",
       "      <th>hp_kw</th>\n",
       "      <td>0</td>\n",
       "      <td>0.0</td>\n",
       "    </tr>\n",
       "    <tr>\n",
       "      <th>inspection_new</th>\n",
       "      <td>0</td>\n",
       "      <td>0.0</td>\n",
       "    </tr>\n",
       "    <tr>\n",
       "      <th>paint_type</th>\n",
       "      <td>0</td>\n",
       "      <td>0.0</td>\n",
       "    </tr>\n",
       "    <tr>\n",
       "      <th>upholstery_type</th>\n",
       "      <td>0</td>\n",
       "      <td>0.0</td>\n",
       "    </tr>\n",
       "    <tr>\n",
       "      <th>gearing_type</th>\n",
       "      <td>0</td>\n",
       "      <td>0.0</td>\n",
       "    </tr>\n",
       "    <tr>\n",
       "      <th>displacement_cc</th>\n",
       "      <td>0</td>\n",
       "      <td>0.0</td>\n",
       "    </tr>\n",
       "    <tr>\n",
       "      <th>weight_kg</th>\n",
       "      <td>0</td>\n",
       "      <td>0.0</td>\n",
       "    </tr>\n",
       "    <tr>\n",
       "      <th>drive_chain</th>\n",
       "      <td>0</td>\n",
       "      <td>0.0</td>\n",
       "    </tr>\n",
       "    <tr>\n",
       "      <th>fuel_cons_comb</th>\n",
       "      <td>0</td>\n",
       "      <td>0.0</td>\n",
       "    </tr>\n",
       "  </tbody>\n",
       "</table>\n",
       "</div>"
      ],
      "text/plain": [
       "                     count  percentage\n",
       "make_model               0         0.0\n",
       "body_type                0         0.0\n",
       "price                    0         0.0\n",
       "vat                      0         0.0\n",
       "km                       0         0.0\n",
       "type                     0         0.0\n",
       "fuel_type                0         0.0\n",
       "gears_num                0         0.0\n",
       "comfort_convenience      0         0.0\n",
       "entertainment_media      0         0.0\n",
       "extras                   0         0.0\n",
       "safety_security          0         0.0\n",
       "age                      0         0.0\n",
       "previous_owners          0         0.0\n",
       "hp_kw                    0         0.0\n",
       "inspection_new           0         0.0\n",
       "paint_type               0         0.0\n",
       "upholstery_type          0         0.0\n",
       "gearing_type             0         0.0\n",
       "displacement_cc          0         0.0\n",
       "weight_kg                0         0.0\n",
       "drive_chain              0         0.0\n",
       "fuel_cons_comb           0         0.0"
      ]
     },
     "execution_count": 4,
     "metadata": {},
     "output_type": "execute_result"
    }
   ],
   "source": [
    "# Check out the missing values\n",
    "\n",
    "missing_count = df.isnull().sum()\n",
    "value_count = df.isnull().count()\n",
    "missing_percentage = round(missing_count / value_count * 100, 2)\n",
    "missing_df = pd.DataFrame({\"count\": missing_count, \"percentage\": missing_percentage})\n",
    "missing_df"
   ]
  },
  {
   "cell_type": "markdown",
   "metadata": {},
   "source": [
    "# - Check Duplicated Values"
   ]
  },
  {
   "cell_type": "code",
   "execution_count": 5,
   "metadata": {
    "execution": {
     "iopub.execute_input": "2024-07-25T06:55:52.270026Z",
     "iopub.status.busy": "2024-07-25T06:55:52.269583Z",
     "iopub.status.idle": "2024-07-25T06:55:52.280154Z",
     "shell.execute_reply": "2024-07-25T06:55:52.278642Z",
     "shell.execute_reply.started": "2024-07-25T06:55:52.269990Z"
    }
   },
   "outputs": [],
   "source": [
    "# Let's observe first the unique values\n",
    "\n",
    "def get_unique_values(df):\n",
    "    \n",
    "    output_data = []\n",
    "\n",
    "    for col in df.columns:\n",
    "\n",
    "        # If the number of unique values in the column is less than or equal to 5\n",
    "        if df.loc[:, col].nunique() <= 10:\n",
    "            # Get the unique values in the column\n",
    "            unique_values = df.loc[:, col].unique()\n",
    "            # Append the column name, number of unique values, unique values, and data type to the output data\n",
    "            output_data.append([col, df.loc[:, col].nunique(), unique_values, df.loc[:, col].dtype])\n",
    "        else:\n",
    "            # Otherwise, append only the column name, number of unique values, and data type to the output data\n",
    "            output_data.append([col, df.loc[:, col].nunique(),\"-\", df.loc[:, col].dtype])\n",
    "\n",
    "    output_df = pd.DataFrame(output_data, columns=['Column Name', 'Number of Unique Values', ' Unique Values ', 'Data Type'])\n",
    "\n",
    "    return output_df"
   ]
  },
  {
   "cell_type": "code",
   "execution_count": 6,
   "metadata": {
    "execution": {
     "iopub.execute_input": "2024-07-25T06:56:11.627632Z",
     "iopub.status.busy": "2024-07-25T06:56:11.626989Z",
     "iopub.status.idle": "2024-07-25T06:56:11.763375Z",
     "shell.execute_reply": "2024-07-25T06:56:11.761935Z",
     "shell.execute_reply.started": "2024-07-25T06:56:11.627583Z"
    }
   },
   "outputs": [
    {
     "data": {
      "text/html": [
       "<div>\n",
       "<style scoped>\n",
       "    .dataframe tbody tr th:only-of-type {\n",
       "        vertical-align: middle;\n",
       "    }\n",
       "\n",
       "    .dataframe tbody tr th {\n",
       "        vertical-align: top;\n",
       "    }\n",
       "\n",
       "    .dataframe thead th {\n",
       "        text-align: right;\n",
       "    }\n",
       "</style>\n",
       "<table border=\"1\" class=\"dataframe\">\n",
       "  <thead>\n",
       "    <tr style=\"text-align: right;\">\n",
       "      <th></th>\n",
       "      <th>Column Name</th>\n",
       "      <th>Number of Unique Values</th>\n",
       "      <th>Unique Values</th>\n",
       "      <th>Data Type</th>\n",
       "    </tr>\n",
       "  </thead>\n",
       "  <tbody>\n",
       "    <tr>\n",
       "      <th>0</th>\n",
       "      <td>make_model</td>\n",
       "      <td>9</td>\n",
       "      <td>[Audi A1, Audi A2, Audi A3, Opel Astra, Opel C...</td>\n",
       "      <td>object</td>\n",
       "    </tr>\n",
       "    <tr>\n",
       "      <th>1</th>\n",
       "      <td>body_type</td>\n",
       "      <td>8</td>\n",
       "      <td>[Sedans, Station wagon, Compact, Coupe, Van, O...</td>\n",
       "      <td>object</td>\n",
       "    </tr>\n",
       "    <tr>\n",
       "      <th>2</th>\n",
       "      <td>price</td>\n",
       "      <td>2952</td>\n",
       "      <td>-</td>\n",
       "      <td>int64</td>\n",
       "    </tr>\n",
       "    <tr>\n",
       "      <th>3</th>\n",
       "      <td>vat</td>\n",
       "      <td>2</td>\n",
       "      <td>[VAT deductible, Price negotiable]</td>\n",
       "      <td>object</td>\n",
       "    </tr>\n",
       "    <tr>\n",
       "      <th>4</th>\n",
       "      <td>km</td>\n",
       "      <td>6691</td>\n",
       "      <td>-</td>\n",
       "      <td>float64</td>\n",
       "    </tr>\n",
       "    <tr>\n",
       "      <th>5</th>\n",
       "      <td>type</td>\n",
       "      <td>5</td>\n",
       "      <td>[Used, Employee's car, New, Demonstration, Pre...</td>\n",
       "      <td>object</td>\n",
       "    </tr>\n",
       "    <tr>\n",
       "      <th>6</th>\n",
       "      <td>fuel_type</td>\n",
       "      <td>4</td>\n",
       "      <td>[Diesel, Benzine, LPG/CNG, Electric]</td>\n",
       "      <td>object</td>\n",
       "    </tr>\n",
       "    <tr>\n",
       "      <th>7</th>\n",
       "      <td>gears_num</td>\n",
       "      <td>4</td>\n",
       "      <td>[7.0, 6.0, 5.0, 8.0]</td>\n",
       "      <td>float64</td>\n",
       "    </tr>\n",
       "    <tr>\n",
       "      <th>8</th>\n",
       "      <td>comfort_convenience</td>\n",
       "      <td>6196</td>\n",
       "      <td>-</td>\n",
       "      <td>object</td>\n",
       "    </tr>\n",
       "    <tr>\n",
       "      <th>9</th>\n",
       "      <td>entertainment_media</td>\n",
       "      <td>346</td>\n",
       "      <td>-</td>\n",
       "      <td>object</td>\n",
       "    </tr>\n",
       "    <tr>\n",
       "      <th>10</th>\n",
       "      <td>extras</td>\n",
       "      <td>659</td>\n",
       "      <td>-</td>\n",
       "      <td>object</td>\n",
       "    </tr>\n",
       "    <tr>\n",
       "      <th>11</th>\n",
       "      <td>safety_security</td>\n",
       "      <td>4442</td>\n",
       "      <td>-</td>\n",
       "      <td>object</td>\n",
       "    </tr>\n",
       "    <tr>\n",
       "      <th>12</th>\n",
       "      <td>age</td>\n",
       "      <td>4</td>\n",
       "      <td>[3.0, 2.0, 1.0, 0.0]</td>\n",
       "      <td>float64</td>\n",
       "    </tr>\n",
       "    <tr>\n",
       "      <th>13</th>\n",
       "      <td>previous_owners</td>\n",
       "      <td>5</td>\n",
       "      <td>[2.0, 1.0, 0.0, 3.0, 4.0]</td>\n",
       "      <td>float64</td>\n",
       "    </tr>\n",
       "    <tr>\n",
       "      <th>14</th>\n",
       "      <td>hp_kw</td>\n",
       "      <td>77</td>\n",
       "      <td>-</td>\n",
       "      <td>float64</td>\n",
       "    </tr>\n",
       "    <tr>\n",
       "      <th>15</th>\n",
       "      <td>inspection_new</td>\n",
       "      <td>2</td>\n",
       "      <td>[1, 0]</td>\n",
       "      <td>int64</td>\n",
       "    </tr>\n",
       "    <tr>\n",
       "      <th>16</th>\n",
       "      <td>paint_type</td>\n",
       "      <td>3</td>\n",
       "      <td>[Metallic, Uni/basic, Perl effect]</td>\n",
       "      <td>object</td>\n",
       "    </tr>\n",
       "    <tr>\n",
       "      <th>17</th>\n",
       "      <td>upholstery_type</td>\n",
       "      <td>2</td>\n",
       "      <td>[Cloth, Part/Full Leather]</td>\n",
       "      <td>object</td>\n",
       "    </tr>\n",
       "    <tr>\n",
       "      <th>18</th>\n",
       "      <td>gearing_type</td>\n",
       "      <td>3</td>\n",
       "      <td>[Automatic, Manual, Semi-automatic]</td>\n",
       "      <td>object</td>\n",
       "    </tr>\n",
       "    <tr>\n",
       "      <th>19</th>\n",
       "      <td>displacement_cc</td>\n",
       "      <td>68</td>\n",
       "      <td>-</td>\n",
       "      <td>float64</td>\n",
       "    </tr>\n",
       "    <tr>\n",
       "      <th>20</th>\n",
       "      <td>weight_kg</td>\n",
       "      <td>432</td>\n",
       "      <td>-</td>\n",
       "      <td>float64</td>\n",
       "    </tr>\n",
       "    <tr>\n",
       "      <th>21</th>\n",
       "      <td>drive_chain</td>\n",
       "      <td>3</td>\n",
       "      <td>[front, 4WD, rear]</td>\n",
       "      <td>object</td>\n",
       "    </tr>\n",
       "    <tr>\n",
       "      <th>22</th>\n",
       "      <td>fuel_cons_comb</td>\n",
       "      <td>62</td>\n",
       "      <td>-</td>\n",
       "      <td>float64</td>\n",
       "    </tr>\n",
       "  </tbody>\n",
       "</table>\n",
       "</div>"
      ],
      "text/plain": [
       "            Column Name  Number of Unique Values  \\\n",
       "0            make_model                        9   \n",
       "1             body_type                        8   \n",
       "2                 price                     2952   \n",
       "3                   vat                        2   \n",
       "4                    km                     6691   \n",
       "5                  type                        5   \n",
       "6             fuel_type                        4   \n",
       "7             gears_num                        4   \n",
       "8   comfort_convenience                     6196   \n",
       "9   entertainment_media                      346   \n",
       "10               extras                      659   \n",
       "11      safety_security                     4442   \n",
       "12                  age                        4   \n",
       "13      previous_owners                        5   \n",
       "14                hp_kw                       77   \n",
       "15       inspection_new                        2   \n",
       "16           paint_type                        3   \n",
       "17      upholstery_type                        2   \n",
       "18         gearing_type                        3   \n",
       "19      displacement_cc                       68   \n",
       "20            weight_kg                      432   \n",
       "21          drive_chain                        3   \n",
       "22       fuel_cons_comb                       62   \n",
       "\n",
       "                                       Unique Values  Data Type  \n",
       "0   [Audi A1, Audi A2, Audi A3, Opel Astra, Opel C...    object  \n",
       "1   [Sedans, Station wagon, Compact, Coupe, Van, O...    object  \n",
       "2                                                   -     int64  \n",
       "3                  [VAT deductible, Price negotiable]    object  \n",
       "4                                                   -   float64  \n",
       "5   [Used, Employee's car, New, Demonstration, Pre...    object  \n",
       "6                [Diesel, Benzine, LPG/CNG, Electric]    object  \n",
       "7                                [7.0, 6.0, 5.0, 8.0]   float64  \n",
       "8                                                   -    object  \n",
       "9                                                   -    object  \n",
       "10                                                  -    object  \n",
       "11                                                  -    object  \n",
       "12                               [3.0, 2.0, 1.0, 0.0]   float64  \n",
       "13                          [2.0, 1.0, 0.0, 3.0, 4.0]   float64  \n",
       "14                                                  -   float64  \n",
       "15                                             [1, 0]     int64  \n",
       "16                 [Metallic, Uni/basic, Perl effect]    object  \n",
       "17                         [Cloth, Part/Full Leather]    object  \n",
       "18                [Automatic, Manual, Semi-automatic]    object  \n",
       "19                                                  -   float64  \n",
       "20                                                  -   float64  \n",
       "21                                 [front, 4WD, rear]    object  \n",
       "22                                                  -   float64  "
      ]
     },
     "execution_count": 6,
     "metadata": {},
     "output_type": "execute_result"
    }
   ],
   "source": [
    "get_unique_values(df)"
   ]
  },
  {
   "cell_type": "code",
   "execution_count": 7,
   "metadata": {
    "execution": {
     "iopub.execute_input": "2024-07-25T06:56:23.985610Z",
     "iopub.status.busy": "2024-07-25T06:56:23.985177Z",
     "iopub.status.idle": "2024-07-25T06:56:24.042476Z",
     "shell.execute_reply": "2024-07-25T06:56:24.041007Z",
     "shell.execute_reply.started": "2024-07-25T06:56:23.985572Z"
    }
   },
   "outputs": [
    {
     "data": {
      "text/plain": [
       "(1673, 23)"
      ]
     },
     "execution_count": 7,
     "metadata": {},
     "output_type": "execute_result"
    }
   ],
   "source": [
    "# Duplicated Data\n",
    "\n",
    "df_duplicated = df[df.duplicated() == True]\n",
    "df_duplicated.shape"
   ]
  },
  {
   "cell_type": "code",
   "execution_count": null,
   "metadata": {},
   "outputs": [],
   "source": [
    "#Drop the duplicated values\n",
    "\n",
    "def duplicate_values(df):\n",
    "    print(\"Duplicate check...\")\n",
    "    num_duplicates = df.duplicated(subset=None, keep='first').sum()\n",
    "    if num_duplicates > 0:\n",
    "        print(\"There are\", num_duplicates, \"duplicated observations in the dataset.\")\n",
    "        df.drop_duplicates(keep='first', inplace=True)\n",
    "        print(num_duplicates, \"duplicates were dropped!\")\n",
    "        print(\"No more duplicate rows!\")\n",
    "    else:\n",
    "        print(\"There are no duplicated observations in the dataset.\")"
   ]
  },
  {
   "cell_type": "markdown",
   "metadata": {},
   "source": [
    "Understanding the context and data collection methods is crucial to determine the cause of duplicates. \n",
    "Whether to drop duplicates depends on the analysis purpose.\n",
    "- For analyzing changes over time or variations, keeping duplicates might be more appropriate.\n",
    "- However, since I will be using a linear model, I dropped these rows because duplicate rows contain similar values. \n",
    "- Linear regression tries to find the general trend of the data points and the fact that duplicate rows contain similar values does not lead to a major change in the model's predictions."
   ]
  },
  {
   "cell_type": "code",
   "execution_count": null,
   "metadata": {
    "execution": {
     "iopub.execute_input": "2024-07-24T11:43:59.319766Z",
     "iopub.status.busy": "2024-07-24T11:43:59.318972Z",
     "iopub.status.idle": "2024-07-24T11:43:59.366902Z",
     "shell.execute_reply": "2024-07-24T11:43:59.365653Z",
     "shell.execute_reply.started": "2024-07-24T11:43:59.319732Z"
    }
   },
   "outputs": [],
   "source": [
    "# Basic statistics summary of Numerical features\n",
    "\n",
    "df.describe().T"
   ]
  },
  {
   "cell_type": "code",
   "execution_count": null,
   "metadata": {
    "execution": {
     "iopub.execute_input": "2024-07-24T11:17:58.600327Z",
     "iopub.status.busy": "2024-07-24T11:17:58.599625Z",
     "iopub.status.idle": "2024-07-24T11:17:58.693519Z",
     "shell.execute_reply": "2024-07-24T11:17:58.692474Z",
     "shell.execute_reply.started": "2024-07-24T11:17:58.600293Z"
    }
   },
   "outputs": [],
   "source": [
    "# Basic statistics summary of Object features\n",
    "\n",
    "df.describe(include= 'object').T"
   ]
  },
  {
   "cell_type": "markdown",
   "metadata": {},
   "source": [
    "<a id=\"num\"></a>\n",
    "# 1.1. Numerical Features\n",
    "\n",
    "         'price', 'km','gears_num','age','previous_owners','hp_kw','inspection_new','displacement_cc','weight_kg','fuel_cons_comb'"
   ]
  },
  {
   "cell_type": "markdown",
   "metadata": {},
   "source": [
    "### Distributions of Numerical Features"
   ]
  },
  {
   "cell_type": "code",
   "execution_count": null,
   "metadata": {
    "execution": {
     "iopub.execute_input": "2024-07-24T17:14:20.907698Z",
     "iopub.status.busy": "2024-07-24T17:14:20.907293Z",
     "iopub.status.idle": "2024-07-24T17:14:25.667298Z",
     "shell.execute_reply": "2024-07-24T17:14:25.665239Z",
     "shell.execute_reply.started": "2024-07-24T17:14:20.907665Z"
    }
   },
   "outputs": [],
   "source": [
    "numerical_df = df.select_dtypes(include=['number'])\n",
    "\n",
    "plt.figure(figsize=(15, 10))\n",
    "\n",
    "num_vars = len(numerical_df.columns)\n",
    "\n",
    "for i, var in enumerate(numerical_df.columns, 1):\n",
    "    plt.subplot((num_vars // 3) + 1, 3, i)\n",
    "    sns.histplot(data=df, x=var, kde=True)\n",
    "    plt.title(f'Distribution of {var}')\n",
    "    \n",
    "plt.tight_layout()\n",
    "plt.show()"
   ]
  },
  {
   "cell_type": "markdown",
   "metadata": {},
   "source": [
    "### Distributions of the Numerical Features:\n",
    "\n",
    "1. **Price:** Distribution is right-skewed, with most prices concentrated between 10,000 and 20,000 EUR. Some higher-end outliers, particularly above 40,000 EUR.\n",
    "2. **Km (Mileage):** Distribution is right-skewed, with most vehicles having low mileage. Values above 150,000 km are less common.\n",
    "3. **Gears Number:** Most vehicles have 5, 6, or 7 gears. Vehicles with 8 gears are rare.\n",
    "4. **Age:** Peaks at 0, 1, 2, and 3 years, indicating these are common ages for vehicles. Vehicles are generally up to 3 years old.\n",
    "5. **Previous Owners:** Most vehicles have had one or two previous owners. Vehicles with 3 or more previous owners are less common.\n",
    "6. **Hp_kw (Engine Power in kW):** Distribution is right-skewed, with most vehicles between 50 and 150 kW. Vehicles above 200 kW are less frequent.\n",
    "7. **Inspection_new (New Inspection):** Concentration at the extremes (values of 0 and 1). Mid-range values are rare.\n",
    "8. **Displacement_cc (Engine Displacement in cc):** A peak at 1500 cc. Values above 2000 cc are less common.\n",
    "9. **Weight_kg:** Most vehicles are between 1000 and 1500 kg. Vehicles above 2000 kg are rare.\n",
    "10. **Fuel Consumption Combined:** Approximately normal distribution, with most values between 4 and 6 l/100 km. Values above 8 l/100 km are less frequent.\n",
    "\n",
    "### Overall:\n",
    "- **Right-Skewed Distributions:** Many features like `price`, `km`, and `hp_kw` show right-skewed distributions. This skewness might affect the assumptions of linear models, which assume normally distributed residuals.\n",
    "- **Peaks in Categorical Data:** Features such as `gears_num` and `age` have distinct peaks, indicating specific common values that could be significant predictors in the model.\n",
    "- **Outliers:** While several features have some higher-end outliers, their impact on linear modeling needs careful assessment to ensure they do not disproportionately influence the model.\n",
    "- **Data Transformation:** Consider data transformations (e.g., log transformation) to normalize the distributions of skewed features, improving the performance and accuracy of linear models.\n",
    "- **Feature Scaling:** Ensure all features are appropriately scaled, especially those with wide ranges like `km` and `price`, to ensure effective model training.\n",
    "\n",
    "By addressing these considerations, linear modeling can be made more robust and accurate with this dataset."
   ]
  },
  {
   "cell_type": "code",
   "execution_count": null,
   "metadata": {
    "execution": {
     "iopub.execute_input": "2024-07-24T17:14:26.312249Z",
     "iopub.status.busy": "2024-07-24T17:14:26.311409Z",
     "iopub.status.idle": "2024-07-24T17:14:26.321345Z",
     "shell.execute_reply": "2024-07-24T17:14:26.320020Z",
     "shell.execute_reply.started": "2024-07-24T17:14:26.312206Z"
    }
   },
   "outputs": [],
   "source": [
    "print(df['displacement_cc'].value_counts())"
   ]
  },
  {
   "cell_type": "code",
   "execution_count": null,
   "metadata": {
    "execution": {
     "iopub.execute_input": "2024-07-24T17:15:06.919801Z",
     "iopub.status.busy": "2024-07-24T17:15:06.919227Z",
     "iopub.status.idle": "2024-07-24T17:15:06.930340Z",
     "shell.execute_reply": "2024-07-24T17:15:06.929159Z",
     "shell.execute_reply.started": "2024-07-24T17:15:06.919764Z"
    }
   },
   "outputs": [],
   "source": [
    "# Let's try to merge the values less than 10 in the displacement_cc column and assign them to a new column called 'other_disp'.\n",
    "# But wont keep it.\n",
    "\n",
    "displacement = df.displacement_cc.value_counts()\n",
    "\n",
    "displacement[displacement < 10 ].index"
   ]
  },
  {
   "cell_type": "code",
   "execution_count": null,
   "metadata": {
    "collapsed": true,
    "execution": {
     "iopub.execute_input": "2024-07-24T17:15:09.323425Z",
     "iopub.status.busy": "2024-07-24T17:15:09.322955Z",
     "iopub.status.idle": "2024-07-24T17:15:09.332190Z",
     "shell.execute_reply": "2024-07-24T17:15:09.331025Z",
     "shell.execute_reply.started": "2024-07-24T17:15:09.323390Z"
    },
    "jupyter": {
     "outputs_hidden": true
    }
   },
   "outputs": [],
   "source": [
    "other_disp = list(displacement[displacement < 10 ].index)\n",
    "other_disp"
   ]
  },
  {
   "cell_type": "code",
   "execution_count": null,
   "metadata": {
    "execution": {
     "iopub.execute_input": "2024-07-24T17:11:11.365048Z",
     "iopub.status.busy": "2024-07-24T17:11:11.364005Z",
     "iopub.status.idle": "2024-07-24T17:11:11.388543Z",
     "shell.execute_reply": "2024-07-24T17:11:11.387352Z",
     "shell.execute_reply.started": "2024-07-24T17:11:11.365011Z"
    }
   },
   "outputs": [],
   "source": [
    "# Apply on the column\n",
    "# df['displacement_cc'] = df['displacement_cc'].apply(lambda x: 'other_disp' if x in other_disp else x)\n",
    "\n",
    "# print(df['displacement_cc'].value_counts())"
   ]
  },
  {
   "cell_type": "code",
   "execution_count": null,
   "metadata": {
    "collapsed": true,
    "execution": {
     "iopub.execute_input": "2024-07-24T16:37:11.060151Z",
     "iopub.status.busy": "2024-07-24T16:37:11.059718Z",
     "iopub.status.idle": "2024-07-24T16:37:11.644169Z",
     "shell.execute_reply": "2024-07-24T16:37:11.642991Z",
     "shell.execute_reply.started": "2024-07-24T16:37:11.060119Z"
    },
    "jupyter": {
     "outputs_hidden": true
    }
   },
   "outputs": [],
   "source": [
    "sns.distplot(df['displacement_cc'])"
   ]
  },
  {
   "cell_type": "markdown",
   "metadata": {},
   "source": [
    "<a id=\"cat\"></a>\n",
    "# 1.2. Categorical Features\n",
    "\n",
    "        'make_model', 'body_type', 'vat', 'type', 'fuel_type', 'comfort_convenience',\n",
    "        'entertainment_media', 'extras', 'safety_security', 'paint_type',\n",
    "        'upholstery_type', 'gearing_type', 'drive_chain'"
   ]
  },
  {
   "cell_type": "markdown",
   "metadata": {},
   "source": [
    "### Distributions of Categorical Features"
   ]
  },
  {
   "cell_type": "code",
   "execution_count": null,
   "metadata": {
    "execution": {
     "iopub.execute_input": "2024-07-24T15:42:32.741354Z",
     "iopub.status.busy": "2024-07-24T15:42:32.740902Z",
     "iopub.status.idle": "2024-07-24T15:42:35.257793Z",
     "shell.execute_reply": "2024-07-24T15:42:35.256655Z",
     "shell.execute_reply.started": "2024-07-24T15:42:32.741322Z"
    }
   },
   "outputs": [],
   "source": [
    "import plotly.graph_objects as go\n",
    "import plotly.express as px\n",
    "\n",
    "# Distribution of our categorical characteristics with bar graph\n",
    "\n",
    "\n",
    "def plot_bar_graphs(df, columns):\n",
    "    for column in columns:\n",
    "        plt.figure(figsize=(10, 4))\n",
    "        ax = sns.countplot(x=column,\n",
    "                           data=df,\n",
    "                           order=df[column].value_counts().index)\n",
    "        ax.bar_label(ax.containers[0], rotation=45)\n",
    "        plt.xlabel(column, fontsize=10)\n",
    "        plt.ylabel('Count', fontsize=10)\n",
    "        plt.title(f'Bar Graph of {column}', fontsize=10)\n",
    "        plt.xticks(rotation=45, ha='right', fontsize=10)\n",
    "        plt.show()\n",
    "\n",
    "\n",
    "cat_features = [\n",
    "    'make_model', 'body_type', 'vat', 'type', 'fuel_type', 'paint_type',\n",
    "    'upholstery_type', 'gearing_type', 'drive_chain'\n",
    "]\n",
    "\n",
    "plot_bar_graphs(df, cat_features)"
   ]
  },
  {
   "cell_type": "markdown",
   "metadata": {},
   "source": [
    "## 'Make_model' Feature\n",
    "\n",
    "- *As we observed in the distributions of the `make_model` feature values above, Audi A2 has only one data point.\n",
    "    - The fact that the Audi A2 has only one data point indicates that there is not enough data to represent this model.\n",
    "    - it is insufficient for generalization and should be excluded from the analysis.  \n",
    "    - By removing Audi A2, we ensure the model's stability and accuracy."
   ]
  },
  {
   "cell_type": "code",
   "execution_count": null,
   "metadata": {
    "execution": {
     "iopub.execute_input": "2024-07-24T17:16:44.685061Z",
     "iopub.status.busy": "2024-07-24T17:16:44.684632Z",
     "iopub.status.idle": "2024-07-24T17:16:44.697049Z",
     "shell.execute_reply": "2024-07-24T17:16:44.695815Z",
     "shell.execute_reply.started": "2024-07-24T17:16:44.685030Z"
    }
   },
   "outputs": [],
   "source": [
    "models = df.make_model.value_counts()\n",
    "models"
   ]
  },
  {
   "cell_type": "code",
   "execution_count": null,
   "metadata": {
    "execution": {
     "iopub.execute_input": "2024-07-24T17:16:58.339499Z",
     "iopub.status.busy": "2024-07-24T17:16:58.339098Z",
     "iopub.status.idle": "2024-07-24T17:16:58.355178Z",
     "shell.execute_reply": "2024-07-24T17:16:58.353951Z",
     "shell.execute_reply.started": "2024-07-24T17:16:58.339462Z"
    }
   },
   "outputs": [],
   "source": [
    "# Dropping the only Audi A2 observation to increase model performance\n",
    "\n",
    "df = df[df['make_model'] != 'Audi A2'] "
   ]
  },
  {
   "cell_type": "code",
   "execution_count": null,
   "metadata": {
    "execution": {
     "iopub.execute_input": "2024-07-24T17:17:02.321869Z",
     "iopub.status.busy": "2024-07-24T17:17:02.321169Z",
     "iopub.status.idle": "2024-07-24T17:17:02.350077Z",
     "shell.execute_reply": "2024-07-24T17:17:02.348674Z",
     "shell.execute_reply.started": "2024-07-24T17:17:02.321837Z"
    }
   },
   "outputs": [],
   "source": [
    "df[df.make_model==\"Audi A2\"]"
   ]
  },
  {
   "cell_type": "markdown",
   "metadata": {},
   "source": [
    "<a id=\"corr\"></a>\n",
    "# 1.3. Correlations"
   ]
  },
  {
   "cell_type": "code",
   "execution_count": null,
   "metadata": {
    "execution": {
     "iopub.execute_input": "2024-07-24T11:19:03.500077Z",
     "iopub.status.busy": "2024-07-24T11:19:03.499256Z",
     "iopub.status.idle": "2024-07-24T11:19:06.938688Z",
     "shell.execute_reply": "2024-07-24T11:19:06.937512Z",
     "shell.execute_reply.started": "2024-07-24T11:19:03.500042Z"
    }
   },
   "outputs": [],
   "source": [
    "# Target vs Numerical Features\n",
    "\n",
    "numerical_df = df.select_dtypes(include=['number'])\n",
    "\n",
    "for i in range(0, len(numerical_df.columns), 5):\n",
    "    sns.pairplot(data=numerical_df,\n",
    "                x_vars=numerical_df.columns[i:i+5],\n",
    "                y_vars=['price'])"
   ]
  },
  {
   "cell_type": "markdown",
   "metadata": {},
   "source": [
    "#   - Label Encoding "
   ]
  },
  {
   "cell_type": "code",
   "execution_count": null,
   "metadata": {
    "execution": {
     "iopub.execute_input": "2024-07-24T17:17:12.415036Z",
     "iopub.status.busy": "2024-07-24T17:17:12.414578Z",
     "iopub.status.idle": "2024-07-24T17:17:12.534346Z",
     "shell.execute_reply": "2024-07-24T17:17:12.533206Z",
     "shell.execute_reply.started": "2024-07-24T17:17:12.415000Z"
    }
   },
   "outputs": [],
   "source": [
    "# Label the categorical features to see the correlation between categorical features and Target veraible. \n",
    "\n",
    "from sklearn.preprocessing import LabelEncoder\n",
    "\n",
    "# Copy the original dataframe to avoid modifying it directly\n",
    "df_labeled = df.copy()\n",
    "\n",
    "# List of categorical columns\n",
    "categorical_columns = ['make_model', 'body_type', 'vat', 'type', 'fuel_type', 'comfort_convenience',\n",
    "'entertainment_media', 'extras', 'safety_security', 'paint_type',\n",
    "'upholstery_type', 'gearing_type', 'drive_chain']\n",
    "\n",
    "# Apply Label Encoding to each categorical column\n",
    "label_encoders = {}\n",
    "for column in categorical_columns:\n",
    "    le = LabelEncoder()\n",
    "    df_labeled[column] = le.fit_transform(df_labeled[column])\n",
    "    label_encoders[column] = le\n",
    "\n",
    "# Display the first few rows of the labeled dataframe\n",
    "print(df_labeled.head())"
   ]
  },
  {
   "cell_type": "code",
   "execution_count": null,
   "metadata": {
    "execution": {
     "iopub.execute_input": "2024-07-24T17:17:18.960207Z",
     "iopub.status.busy": "2024-07-24T17:17:18.959018Z",
     "iopub.status.idle": "2024-07-24T17:17:18.975408Z",
     "shell.execute_reply": "2024-07-24T17:17:18.974319Z",
     "shell.execute_reply.started": "2024-07-24T17:17:18.960170Z"
    }
   },
   "outputs": [],
   "source": [
    "df_labeled.info()"
   ]
  },
  {
   "cell_type": "markdown",
   "metadata": {},
   "source": [
    "#   - Heatmap"
   ]
  },
  {
   "cell_type": "code",
   "execution_count": null,
   "metadata": {
    "execution": {
     "iopub.execute_input": "2024-07-24T17:17:21.899600Z",
     "iopub.status.busy": "2024-07-24T17:17:21.899209Z",
     "iopub.status.idle": "2024-07-24T17:17:24.116682Z",
     "shell.execute_reply": "2024-07-24T17:17:24.115450Z",
     "shell.execute_reply.started": "2024-07-24T17:17:21.899571Z"
    }
   },
   "outputs": [],
   "source": [
    "correlation_matrix = df_labeled.corr()\n",
    "\n",
    "plt.figure(figsize=(25,20))\n",
    "sns.heatmap(correlation_matrix, annot=True, cmap='coolwarm', linewidths=0.5)\n",
    "plt.title('Correlation Matrix Heatmap')\n",
    "plt.show()"
   ]
  },
  {
   "cell_type": "code",
   "execution_count": null,
   "metadata": {
    "execution": {
     "iopub.execute_input": "2024-07-24T17:17:38.622400Z",
     "iopub.status.busy": "2024-07-24T17:17:38.621979Z",
     "iopub.status.idle": "2024-07-24T17:17:38.669292Z",
     "shell.execute_reply": "2024-07-24T17:17:38.668103Z",
     "shell.execute_reply.started": "2024-07-24T17:17:38.622366Z"
    }
   },
   "outputs": [],
   "source": [
    "# Check the multicolinarty;\n",
    "\n",
    "numerical_df = df.select_dtypes(include=['number'])\n",
    "\n",
    "multicolinarty_check1 = numerical_df.corr()[(numerical_df.corr()>= 0.9) & (numerical_df.corr() < 1)].any().any()\n",
    "\n",
    "multicolinarty_check2 = numerical_df.corr()[(numerical_df.corr()<= -0.9) & (numerical_df.corr() > -1)].any().any()\n",
    "\n",
    "print(multicolinarty_check1)\n",
    "print(multicolinarty_check2)"
   ]
  },
  {
   "cell_type": "code",
   "execution_count": null,
   "metadata": {
    "execution": {
     "iopub.execute_input": "2024-07-24T17:17:45.366670Z",
     "iopub.status.busy": "2024-07-24T17:17:45.366157Z",
     "iopub.status.idle": "2024-07-24T17:17:45.403456Z",
     "shell.execute_reply": "2024-07-24T17:17:45.402317Z",
     "shell.execute_reply.started": "2024-07-24T17:17:45.366635Z"
    }
   },
   "outputs": [],
   "source": [
    "correlation_matrix = df_labeled.corr() # Labeled df\n",
    "\n",
    "price_corr = correlation_matrix['price'].sort_values(ascending= False)\n",
    "price_corr"
   ]
  },
  {
   "cell_type": "code",
   "execution_count": null,
   "metadata": {
    "execution": {
     "iopub.execute_input": "2024-07-24T17:18:00.363718Z",
     "iopub.status.busy": "2024-07-24T17:18:00.363311Z",
     "iopub.status.idle": "2024-07-24T17:18:00.885045Z",
     "shell.execute_reply": "2024-07-24T17:18:00.883889Z",
     "shell.execute_reply.started": "2024-07-24T17:18:00.363686Z"
    }
   },
   "outputs": [],
   "source": [
    "price_corr.plot(kind='bar',figsize=(15,6))"
   ]
  },
  {
   "cell_type": "markdown",
   "metadata": {},
   "source": [
    "### NOTE:\n",
    "\n",
    "1. **Strong Positive Correlations with Price:**\n",
    "   - **Gears Number (`gears_num`):** Shows a strong positive correlation with `price` (0.53), indicating that cars with more gears tend to be more expensive.\n",
    "   - **Engine Power (`hp_kW`):** Exhibits a moderate positive correlation with `price` (0.45), suggesting that higher-powered cars are generally more expensive.\n",
    "   - **Engine Displacement (`displacement_cc`):** Has a moderate positive correlation with `price` (0.36), indicating that cars with larger engine displacements tend to be more expensive.\n",
    "\n",
    "2. **Negative Correlations with Price:**\n",
    "   - **Mileage (`km`):** Displays a negative correlation with `price` (-0.35), suggesting that cars with higher mileage tend to be cheaper.\n",
    "   - **Age (`age`):** Exhibits a negative correlation with `price` (-0.21), indicating that older cars tend to be cheaper.\n",
    "   - **Fuel Consumption (`fuel_cons_comb`):** Shows a moderate negative correlation with `price` (-0.30), indicating that cars with higher fuel consumption tend to be cheaper.\n",
    "\n",
    "3. **Multicollinearity Considerations:**\n",
    "   - **Gears Number (`gears_num`), Engine Power (`hp_kW`), and Engine Displacement (`displacement_cc`):** These features show strong correlations with each other and with `price`, suggesting potential multicollinearity. \n",
    "   - **Mileage (`km`) and Age (`age`):** These features also show a strong correlation (0.76) with each other, indicating redundancy. \n",
    "\n",
    "Managing multicollinearity among these highly correlated features is crucial to ensure model stability and performance. By addressing these correlations, we can build a more reliable and accurate price prediction model."
   ]
  },
  {
   "cell_type": "markdown",
   "metadata": {},
   "source": [
    "<a id=\"out\"></a>\n",
    "# 1.4. Outlier Analysis"
   ]
  },
  {
   "cell_type": "markdown",
   "metadata": {},
   "source": [
    "Linear models are generally sensitive to outliers because they seek linear relationships between data points and employ MSE-like loss functions that amplify large errors. Some models, such as decision trees and robust regression, are more resilient to outliers and are less affected by such data. Therefore, when choosing a model, the characteristics of the dataset and the presence of outliers should be considered.\n",
    "\n",
    "- We will not intervene with outliers at the moment, but we can take action later according to the model's forecasting performance.\n",
    "- Let's observe the outliers for now."
   ]
  },
  {
   "cell_type": "code",
   "execution_count": null,
   "metadata": {
    "execution": {
     "iopub.execute_input": "2024-07-24T16:56:35.047350Z",
     "iopub.status.busy": "2024-07-24T16:56:35.046895Z",
     "iopub.status.idle": "2024-07-24T16:56:36.505594Z",
     "shell.execute_reply": "2024-07-24T16:56:36.504118Z",
     "shell.execute_reply.started": "2024-07-24T16:56:35.047317Z"
    }
   },
   "outputs": [],
   "source": [
    "# Checking Outliers\n",
    "\n",
    "# Initialize the subplot counter\n",
    "x = 0\n",
    "\n",
    "#Numerical features;\n",
    "numerical_columns = ['price', 'km','gears_num','age','hp_kw','displacement_cc','weight_kg','fuel_cons_comb']\n",
    "        \n",
    "# Create a figure with specified size\n",
    "plt.figure(figsize=(16, 4))\n",
    "\n",
    "# Loop through each numerical column and create a boxplot\n",
    "for col in numerical_columns:\n",
    "    x += 1\n",
    "    plt.subplot(1, 8, x)\n",
    "    sns.boxplot(data=df[col])\n",
    "    plt.title(col)\n",
    "\n",
    "# Show the plots\n",
    "plt.tight_layout()  # Adjust subplots to fit in the figure area.\n",
    "plt.show()"
   ]
  },
  {
   "cell_type": "markdown",
   "metadata": {},
   "source": [
    "## Target Variable"
   ]
  },
  {
   "cell_type": "code",
   "execution_count": null,
   "metadata": {
    "execution": {
     "iopub.execute_input": "2024-07-24T16:41:12.883644Z",
     "iopub.status.busy": "2024-07-24T16:41:12.882838Z",
     "iopub.status.idle": "2024-07-24T16:41:13.122350Z",
     "shell.execute_reply": "2024-07-24T16:41:13.121043Z",
     "shell.execute_reply.started": "2024-07-24T16:41:12.883609Z"
    }
   },
   "outputs": [],
   "source": [
    "# Checking outliers for target variable 'price' with boxplot\n",
    "\n",
    "sns.boxplot(df.price);"
   ]
  },
  {
   "cell_type": "code",
   "execution_count": null,
   "metadata": {
    "execution": {
     "iopub.execute_input": "2024-07-24T16:56:58.724942Z",
     "iopub.status.busy": "2024-07-24T16:56:58.723883Z",
     "iopub.status.idle": "2024-07-24T16:56:59.343156Z",
     "shell.execute_reply": "2024-07-24T16:56:59.342038Z",
     "shell.execute_reply.started": "2024-07-24T16:56:58.724904Z"
    }
   },
   "outputs": [],
   "source": [
    "#Skewness of the target variable\n",
    "print(\"Skewness: %f\" % df['price'].skew())\n",
    "\n",
    "# Distribution of target variable before log transformation\n",
    "price_untransformed = sns.distplot(df['price'])"
   ]
  },
  {
   "cell_type": "markdown",
   "metadata": {},
   "source": [
    "- The range of skewness for a fairly symmetrical bell curve distribution is between -0.5 and 0.5; \n",
    "- moderate skewness is -0.5 to -1.0 and 0.5 to 1.0; \n",
    "- and highly skewed distribution is < -1.0 and > 1.0. \n",
    "\n",
    "*In our case, we have ~1.2, so it is considered skewed data. \n",
    "Now, we can try to transform our data, so it looks more normally distributed.*"
   ]
  },
  {
   "cell_type": "code",
   "execution_count": null,
   "metadata": {
    "execution": {
     "iopub.execute_input": "2024-07-24T17:18:58.996225Z",
     "iopub.status.busy": "2024-07-24T17:18:58.994926Z",
     "iopub.status.idle": "2024-07-24T17:18:59.479229Z",
     "shell.execute_reply": "2024-07-24T17:18:59.477934Z",
     "shell.execute_reply.started": "2024-07-24T17:18:58.996168Z"
    }
   },
   "outputs": [],
   "source": [
    "#After Log Transformation\n",
    "price_transformed = sns.distplot(np.log(df['price']))"
   ]
  },
  {
   "cell_type": "code",
   "execution_count": null,
   "metadata": {
    "execution": {
     "iopub.execute_input": "2024-07-24T16:57:18.350925Z",
     "iopub.status.busy": "2024-07-24T16:57:18.350500Z",
     "iopub.status.idle": "2024-07-24T16:57:18.367463Z",
     "shell.execute_reply": "2024-07-24T16:57:18.366164Z",
     "shell.execute_reply.started": "2024-07-24T16:57:18.350888Z"
    }
   },
   "outputs": [],
   "source": [
    "# Apply Log Transformation for Target Variable\n",
    "\n",
    "#df['log_price'] = np.log(df['price'])\n",
    "#df[['price', 'log_price']].head()"
   ]
  },
  {
   "cell_type": "code",
   "execution_count": null,
   "metadata": {
    "execution": {
     "iopub.execute_input": "2024-07-24T16:54:22.080644Z",
     "iopub.status.busy": "2024-07-24T16:54:22.080195Z",
     "iopub.status.idle": "2024-07-24T16:54:22.505714Z",
     "shell.execute_reply": "2024-07-24T16:54:22.504522Z",
     "shell.execute_reply.started": "2024-07-24T16:54:22.080609Z"
    }
   },
   "outputs": [],
   "source": [
    "# Make and Models \n",
    "\n",
    "plt.figure(figsize=(16,6))\n",
    "sns.boxplot(x=\"make_model\", y=\"price\", data=df, whis=3, color=\"skyblue\")\n",
    "plt.show()"
   ]
  },
  {
   "cell_type": "code",
   "execution_count": null,
   "metadata": {
    "execution": {
     "iopub.execute_input": "2024-07-24T16:58:51.528181Z",
     "iopub.status.busy": "2024-07-24T16:58:51.527716Z",
     "iopub.status.idle": "2024-07-24T16:58:51.622199Z",
     "shell.execute_reply": "2024-07-24T16:58:51.620817Z",
     "shell.execute_reply.started": "2024-07-24T16:58:51.528146Z"
    }
   },
   "outputs": [],
   "source": [
    "total_outliers = []\n",
    "\n",
    "for model in df.make_model.unique():\n",
    "    \n",
    "    car_prices = df[df[\"make_model\"]== model][\"price\"]\n",
    "    \n",
    "    Q1 = car_prices.quantile(0.25)\n",
    "    Q3 = car_prices.quantile(0.75)\n",
    "    IQR = Q3-Q1\n",
    "    lower_lim = Q1-1.5*IQR\n",
    "    upper_lim = Q3+1.5*IQR\n",
    "    \n",
    "    count_of_outliers = (car_prices[(car_prices < lower_lim) | (car_prices > upper_lim)]).count()\n",
    "    \n",
    "    total_outliers.append(count_of_outliers)\n",
    "    \n",
    "    print(f\" The count of outlier for {model:<15} : {count_of_outliers:<5}, \\\n",
    "          The rate of outliers : {(count_of_outliers/len(df[df['make_model']== model])).round(3)}\")\n",
    "print()    \n",
    "print(\"Total_outliers : \",sum(total_outliers), \"The rate of total outliers :\", (sum(total_outliers)/len(df)).round(3))"
   ]
  },
  {
   "cell_type": "markdown",
   "metadata": {},
   "source": [
    "- Some models, like Opel Astra, Opel Insignia, and Renault Clio, have a high number of outliers, indicating significant price deviations. \n",
    "- Models like Audi A1, Opel Corsa, and Renault Duster have more consistent price distributions with fewer outliers. \n",
    "- The overall outlier rate is 2.6%, showing the dataset's sensitivity to outliers. \n",
    "- These outliers should be considered in analysis and modeling."
   ]
  },
  {
   "cell_type": "code",
   "execution_count": null,
   "metadata": {},
   "outputs": [],
   "source": [
    "#==================================================================================================================\n",
    "# Calculate skewness for numeric features\n",
    "\n",
    "# A skewness value greater than 1 indicates positive skewness,\n",
    "# a skewness value less than -1 indicates negative skewness,\n",
    "# and a skewness value close to zero indicates a relatively symmetric distribution.\n",
    "\n",
    "num_cols= df.select_dtypes('number').columns\n",
    "\n",
    "skew_limit = 0.75               # define a limit above which we will log transform\n",
    "skew_vals = df[num_cols].skew()\n",
    "\n",
    "\n",
    "# Showing the skewed columns\n",
    "skew_cols = (skew_vals\n",
    "             .sort_values(ascending=False)\n",
    "             .to_frame()\n",
    "             .rename(columns={0:'Skew'})\n",
    "             .query('abs(Skew) > {}'.format(skew_limit)))\n",
    "skew_cols"
   ]
  },
  {
   "cell_type": "code",
   "execution_count": null,
   "metadata": {},
   "outputs": [],
   "source": [
    "# Apply log transformation to skewed columns\n",
    "\n",
    "for col in skew_cols.index:\n",
    "    # Since log transformation cannot be applied to non-positive values, we add 1 to each value\n",
    "    df[col] = np.log1p(df[col])\n",
    "\n",
    "# Display the transformed dataframe\n",
    "print(df.head())"
   ]
  },
  {
   "cell_type": "code",
   "execution_count": null,
   "metadata": {},
   "outputs": [],
   "source": [
    "skew_cols  # check the skewness again"
   ]
  },
  {
   "cell_type": "code",
   "execution_count": null,
   "metadata": {},
   "outputs": [],
   "source": [
    "# Before and After Log Transformation of Target\n",
    "\n",
    "fig, (ax_before, ax_after) = plt.subplots(1, 2, figsize=(10, 5))\n",
    "df['price'].hist(ax=ax_before)\n",
    "df['price'].apply(np.log1p).hist(ax=ax_after)\n",
    "\n",
    "#===================================================================================================================="
   ]
  },
  {
   "cell_type": "markdown",
   "metadata": {},
   "source": [
    "---\n",
    "\n",
    "## One-Hot Encoding"
   ]
  },
  {
   "cell_type": "markdown",
   "metadata": {},
   "source": [
    "### Explanation: Sample Data Point\n",
    "\n",
    "**Original Data:**\n",
    "\n",
    "- The `comfort_convenience`, `entertainment_media`, `extras`, and `safety_security` columns contain categorical values.\n",
    "\n",
    "| comfort_convenience          | entertainment_media       | extras      | safety_security              |\n",
    "|------------------------------|---------------------------|-------------|------------------------------|\n",
    "| Air Conditioning, Cruise Control | Bluetooth, CD Player     | Alloy Wheels | ABS, Airbags                 |\n",
    "\n",
    "\n",
    "**After One-Hot Encoding:**\n",
    "\n",
    "- Each category has been converted into a separate column. \n",
    "- For example, `Air Conditioning` and `Cruise Control` are represented as separate columns with the `cc_` prefix. \n",
    "- Similarly, other categories are represented with their own prefixes, with the presence of a category indicated by 1 and its absence by 0.\n",
    "\n",
    "| cc_Air Conditioning | cc_Cruise Control | em_Bluetooth | em_CD Player | ex_Alloy Wheels | ss_ABS | ss_Airbags |\n",
    "|---------------------|-------------------|--------------|--------------|----------------|--------|------------|\n",
    "| 1                   | 1                 | 1            | 1            | 1              | 1      | 1          |\n",
    "\n",
    "\n",
    "This process allows machine learning models to interpret these categorical features as numerical data, thereby improving model performance."
   ]
  },
  {
   "cell_type": "code",
   "execution_count": null,
   "metadata": {
    "execution": {
     "iopub.execute_input": "2024-07-24T12:30:24.017319Z",
     "iopub.status.busy": "2024-07-24T12:30:24.016232Z",
     "iopub.status.idle": "2024-07-24T12:30:24.034965Z",
     "shell.execute_reply": "2024-07-24T12:30:24.033610Z",
     "shell.execute_reply.started": "2024-07-24T12:30:24.017271Z"
    }
   },
   "outputs": [],
   "source": [
    "selected_columns = df.loc[:, ['comfort_convenience', 'entertainment_media', 'extras', 'safety_security']]\n",
    "selected_columns.head()"
   ]
  },
  {
   "cell_type": "code",
   "execution_count": null,
   "metadata": {
    "execution": {
     "iopub.execute_input": "2024-07-24T12:32:43.277309Z",
     "iopub.status.busy": "2024-07-24T12:32:43.276476Z",
     "iopub.status.idle": "2024-07-24T12:32:44.717648Z",
     "shell.execute_reply": "2024-07-24T12:32:44.716502Z",
     "shell.execute_reply.started": "2024-07-24T12:32:43.277272Z"
    }
   },
   "outputs": [],
   "source": [
    "# Get Dummies for Categorical Features with More Than One Value\n",
    "\n",
    "df = df.join(df[\"comfort_convenience\"].str.get_dummies(sep = \",\").add_prefix(\"cc_\"))\n",
    "df = df.join(df[\"entertainment_media\"].str.get_dummies(sep = \",\").add_prefix(\"em_\"))\n",
    "df = df.join(df[\"extras\"].str.get_dummies(sep = \",\").add_prefix(\"ex_\"))\n",
    "df = df.join(df[\"safety_security\"].str.get_dummies(sep = \",\").add_prefix(\"ss_\"))"
   ]
  },
  {
   "cell_type": "code",
   "execution_count": null,
   "metadata": {
    "execution": {
     "iopub.execute_input": "2024-07-23T18:36:19.835736Z",
     "iopub.status.busy": "2024-07-23T18:36:19.834932Z",
     "iopub.status.idle": "2024-07-23T18:36:19.847103Z",
     "shell.execute_reply": "2024-07-23T18:36:19.846035Z",
     "shell.execute_reply.started": "2024-07-23T18:36:19.835701Z"
    }
   },
   "outputs": [],
   "source": [
    "# Drop the original features as we dont need anymore.\n",
    "\n",
    "df.drop([\"comfort_convenience\",\"entertainment_media\",\"extras\",\"safety_security\"], axis=1, inplace=True)"
   ]
  },
  {
   "cell_type": "code",
   "execution_count": null,
   "metadata": {
    "execution": {
     "iopub.execute_input": "2024-07-24T12:35:17.823393Z",
     "iopub.status.busy": "2024-07-24T12:35:17.822629Z",
     "iopub.status.idle": "2024-07-24T12:35:18.092427Z",
     "shell.execute_reply": "2024-07-24T12:35:18.090937Z",
     "shell.execute_reply.started": "2024-07-24T12:35:17.823323Z"
    }
   },
   "outputs": [],
   "source": [
    "# One-Hot Encoding for all df\n",
    "\n",
    "df = pd.get_dummies(df, drop_first =True)"
   ]
  },
  {
   "cell_type": "code",
   "execution_count": null,
   "metadata": {},
   "outputs": [],
   "source": [
    "print(df.shape)\n",
    "\n",
    "df.head(3)"
   ]
  },
  {
   "cell_type": "code",
   "execution_count": null,
   "metadata": {
    "execution": {
     "iopub.execute_input": "2024-07-24T12:41:46.247840Z",
     "iopub.status.busy": "2024-07-24T12:41:46.247433Z",
     "iopub.status.idle": "2024-07-24T12:41:53.053633Z",
     "shell.execute_reply": "2024-07-24T12:41:53.052409Z",
     "shell.execute_reply.started": "2024-07-24T12:41:46.247809Z"
    }
   },
   "outputs": [],
   "source": [
    "# Convert boolean columns to integers, changing True to 1 and False to 0.\n",
    "\n",
    "bool_columns = df.columns[df.dtypes == 'bool']\n",
    "df[bool_columns] = df[bool_columns].astype(int)"
   ]
  },
  {
   "cell_type": "code",
   "execution_count": null,
   "metadata": {},
   "outputs": [],
   "source": [
    "df.head(3)"
   ]
  },
  {
   "cell_type": "code",
   "execution_count": null,
   "metadata": {
    "execution": {
     "iopub.execute_input": "2024-07-24T12:49:20.664481Z",
     "iopub.status.busy": "2024-07-24T12:49:20.664059Z"
    }
   },
   "outputs": [],
   "source": [
    "corr_by_price = df.corr()[\"price\"].sort_values()[:-1]\n",
    "corr_by_price\n",
    "#================================================================================================================"
   ]
  },
  {
   "cell_type": "markdown",
   "metadata": {},
   "source": [
    "---"
   ]
  },
  {
   "cell_type": "markdown",
   "metadata": {},
   "source": [
    "<a id=\"4.1\"></a>\n",
    "# MACHINE LEARNING MODELLING"
   ]
  },
  {
   "cell_type": "code",
   "execution_count": null,
   "metadata": {},
   "outputs": [],
   "source": []
  },
  {
   "cell_type": "markdown",
   "metadata": {},
   "source": [
    "<a id=\"5.\"></a>\n",
    "# Train | Test Split"
   ]
  },
  {
   "cell_type": "markdown",
   "metadata": {},
   "source": [
    "<a id=\"6.\"></a>\n",
    "# Linear Regression"
   ]
  },
  {
   "cell_type": "markdown",
   "metadata": {},
   "source": [
    "## Model"
   ]
  },
  {
   "cell_type": "markdown",
   "metadata": {},
   "source": [
    "## Cross Valisation"
   ]
  },
  {
   "cell_type": "markdown",
   "metadata": {},
   "source": [
    "## Pipline"
   ]
  },
  {
   "cell_type": "markdown",
   "metadata": {},
   "source": [
    "<a id=\"7.\"></a>\n",
    "# Ridge Regression"
   ]
  },
  {
   "cell_type": "markdown",
   "metadata": {},
   "source": [
    "<a id=\"8.\"></a>\n",
    "# Lasso Regression"
   ]
  },
  {
   "cell_type": "markdown",
   "metadata": {},
   "source": [
    "<a id=\"9.\"></a>\n",
    "# Elastic-Net Regression"
   ]
  },
  {
   "cell_type": "markdown",
   "metadata": {},
   "source": [
    "<a id=\"10.\"></a>\n",
    "# Feature Importance"
   ]
  },
  {
   "cell_type": "markdown",
   "metadata": {},
   "source": [
    "<a id=\"11.\"></a>\n",
    "# Comparing Models Performance"
   ]
  },
  {
   "cell_type": "markdown",
   "metadata": {},
   "source": [
    "<a id=\"12.\"></a>\n",
    "# Final Model and Predictions"
   ]
  },
  {
   "cell_type": "markdown",
   "metadata": {},
   "source": [
    "<a id='import'></a>\n",
    "<div style=\"color:white;\n",
    "            display:fill;\n",
    "            border-radius:10px;\n",
    "            background-color:#0e2f52;\n",
    "            font-size:80%;\n",
    "            font-family:Verdana;\n",
    "            letter-spacing:1px\">\n",
    "    <h3 style='padding: 20px;\n",
    "              color:white;\n",
    "              text-align:center;'>\n",
    "        Thank you...\n",
    "    </h3>\n",
    "    </div>\n",
    "\n",
    "---\n",
    "\n",
    "<p align=\"right\">\n",
    "  Duygu Jones | Data Scientist  | 2024\n",
    "    \n",
    "  <br>\n",
    "  Follow me:\n",
    "  <a href=\"https://duygujones.vercel.app/\">duygujones.com</a> | \n",
    "  <a href=\"https://www.linkedin.com/in/duygujones/\">Linkedin</a> | \n",
    "  <a href=\"https://github.com/Duygu-Jones\">GitHub</a> | \n",
    "  <a href=\"https://www.kaggle.com/duygujones\">Kaggle</a> | \n",
    "  <a href=\"https://medium.com/@duygujones\">Medium</a> | \n",
    "  <a href=\"https://public.tableau.com/app/profile/duygu.jones/vizzes\">Tableau</a>\n",
    "</p>"
   ]
  }
 ],
 "metadata": {
  "hide_input": false,
  "kaggle": {
   "accelerator": "none",
   "dataSources": [
    {
     "datasetId": 5428703,
     "sourceId": 9010377,
     "sourceType": "datasetVersion"
    }
   ],
   "dockerImageVersionId": 30746,
   "isGpuEnabled": false,
   "isInternetEnabled": true,
   "language": "python",
   "sourceType": "notebook"
  },
  "kernelspec": {
   "display_name": "Python 3 (ipykernel)",
   "language": "python",
   "name": "python3"
  },
  "language_info": {
   "codemirror_mode": {
    "name": "ipython",
    "version": 3
   },
   "file_extension": ".py",
   "mimetype": "text/x-python",
   "name": "python",
   "nbconvert_exporter": "python",
   "pygments_lexer": "ipython3",
   "version": "3.11.7"
  },
  "toc": {
   "base_numbering": 1,
   "nav_menu": {},
   "number_sections": true,
   "sideBar": true,
   "skip_h1_title": false,
   "title_cell": "Table of Contents",
   "title_sidebar": "Contents",
   "toc_cell": false,
   "toc_position": {
    "height": "calc(100% - 180px)",
    "left": "10px",
    "top": "150px",
    "width": "305.556px"
   },
   "toc_section_display": true,
   "toc_window_display": true
  }
 },
 "nbformat": 4,
 "nbformat_minor": 4
}
